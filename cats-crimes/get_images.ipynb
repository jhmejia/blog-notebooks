{
 "cells": [
  {
   "attachments": {},
   "cell_type": "markdown",
   "metadata": {},
   "source": [
    "# Classify images of cats and elephants. Using webscraping! "
   ]
  },
  {
   "cell_type": "code",
   "execution_count": 13,
   "metadata": {},
   "outputs": [],
   "source": [
    "#importing libraries\n",
    "\n",
    "import time\n",
    "from selenium import webdriver\n",
    "from selenium.webdriver.support.ui import WebDriverWait\n",
    "from bs4 import BeautifulSoup\n"
   ]
  },
  {
   "attachments": {},
   "cell_type": "markdown",
   "metadata": {},
   "source": [
    "Get images of cat.\n",
    "\n",
    "It would be easy to do this using an [API](https://thecatapi.com/) or just download these images via a [Kaggle dataset](https://www.kaggle.com/competitions/dogs-vs-cats/data), but I decided to do webscraping as a good tutorial on how to do it. \n",
    "\n",
    "Simply, what we need to do is a few things. \n",
    "\n",
    "We need to \n",
    "1. Get the url, and extract the HTML from it. \n",
    "2. Parse it using beautiful soup to find the images\n",
    "3. Pre-process and or standardize the data\n",
    "4. Save the images ! "
   ]
  },
  {
   "cell_type": "code",
   "execution_count": 14,
   "metadata": {},
   "outputs": [
    {
     "name": "stdout",
     "output_type": "stream",
     "text": [
      "['https://cdn.pixabay.com/photo/2015/04/23/21/59/tree-736877__340.jpg', 'https://cdn.pixabay.com/photo/2017/02/20/18/03/cat-2083492__340.jpg', 'https://cdn.pixabay.com/photo/2014/11/30/14/11/cat-551554__340.jpg', 'https://cdn.pixabay.com/photo/2018/01/25/14/12/nature-3106213__340.jpg', 'https://cdn.pixabay.com/photo/2017/12/11/15/34/lion-3012515__340.jpg', 'https://cdn.pixabay.com/photo/2017/07/25/01/22/cat-2536662__340.jpg', 'https://cdn.pixabay.com/photo/2017/07/24/19/57/tiger-2535888__340.jpg', 'https://cdn.pixabay.com/photo/2017/10/25/16/54/african-lion-2888519__340.jpg', 'https://cdn.pixabay.com/photo/2015/11/16/14/43/cat-1045782__340.jpg', 'https://cdn.pixabay.com/photo/2015/03/27/13/16/maine-coon-694730__340.jpg', 'https://cdn.pixabay.com/photo/2014/12/22/10/04/lions-577104__340.jpg', 'https://cdn.pixabay.com/photo/2014/04/13/20/49/cat-323262__340.jpg', 'https://cdn.pixabay.com/photo/2015/01/07/11/31/tigers-591359__340.jpg', 'https://cdn.pixabay.com/photo/2013/05/30/18/21/cat-114782__340.jpg', 'https://cdn.pixabay.com/photo/2017/11/09/21/41/cat-2934720__340.jpg', 'https://cdn.pixabay.com/photo/2016/01/02/16/53/lion-1118467__340.jpg']\n"
     ]
    }
   ],
   "source": [
    "\n",
    "\n",
    "cat_images = []\n",
    "\n",
    "baseurl = \"https://pixabay.com/photos/search/cat/\"\n",
    "\n",
    "\n",
    "driver = webdriver.Chrome()\n",
    "driver.get(baseurl)\n",
    "time.sleep(1)\n",
    "html = driver.page_source\n",
    "# Close the browser\n",
    "driver.quit()\n",
    "\n",
    "soup = BeautifulSoup(html, 'html.parser') \n",
    "\n",
    "for item in soup.find_all('img'):\n",
    "    cat_images.append(item['src'])\n",
    "\n",
    "#Remove all gifs, they are not images\n",
    "cat_images = [x for x in cat_images if x.endswith('.jpg')]\n",
    "\n",
    "# Print the list of cat images\n",
    "print(cat_images)\n",
    "\n",
    "# Save the cat images to a folder\n",
    "import requests\n",
    "import shutil\n",
    "\n",
    "for i, url in enumerate(cat_images):\n",
    "    r = requests.get(url, stream=True)\n",
    "    if r.status_code == 200:\n",
    "        with open('cat_images/cat'+str(i)+'.jpg', 'wb') as f:\n",
    "            r.raw.decode_content = True\n",
    "            shutil.copyfileobj(r.raw, f)"
   ]
  }
 ],
 "metadata": {
  "kernelspec": {
   "display_name": "Python 3",
   "language": "python",
   "name": "python3"
  },
  "language_info": {
   "codemirror_mode": {
    "name": "ipython",
    "version": 3
   },
   "file_extension": ".py",
   "mimetype": "text/x-python",
   "name": "python",
   "nbconvert_exporter": "python",
   "pygments_lexer": "ipython3",
   "version": "3.11.1"
  },
  "orig_nbformat": 4,
  "vscode": {
   "interpreter": {
    "hash": "167171df70846b30a8d0159733df1712935e672ad1299b7ff9f875d0ba54fe24"
   }
  }
 },
 "nbformat": 4,
 "nbformat_minor": 2
}
