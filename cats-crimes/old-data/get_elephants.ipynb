{
 "cells": [
  {
   "attachments": {},
   "cell_type": "markdown",
   "metadata": {},
   "source": [
    "# Classify images of cats and elephants. Using webscraping! "
   ]
  },
  {
   "cell_type": "code",
   "execution_count": 1,
   "metadata": {},
   "outputs": [],
   "source": [
    "#importing libraries\n",
    "\n",
    "import time\n",
    "from selenium import webdriver\n",
    "from selenium.webdriver.support.ui import WebDriverWait\n",
    "from bs4 import BeautifulSoup\n"
   ]
  },
  {
   "attachments": {},
   "cell_type": "markdown",
   "metadata": {},
   "source": [
    "Get images of elephants.\n",
    "\n",
    "It would be easy to do this using an [API](https://thecatapi.com/) or just download these images via a [Kaggle dataset](https://www.kaggle.com/competitions/dogs-vs-cats/data), but I decided to do webscraping as a good tutorial on how to do it. \n",
    "\n",
    "Simply, what we need to do is a few things. \n",
    "\n",
    "We need to \n",
    "1. Get the url, and extract the HTML from it. \n",
    "2. Parse it using beautiful soup to find the images\n",
    "3. Pre-process and or standardize the data\n",
    "4. Save the images ! "
   ]
  },
  {
   "cell_type": "code",
   "execution_count": 2,
   "metadata": {},
   "outputs": [],
   "source": [
    "elephant_images = []\n",
    "\n",
    "\n",
    "\n",
    "\n",
    "\n"
   ]
  },
  {
   "attachments": {},
   "cell_type": "markdown",
   "metadata": {},
   "source": [
    "Now to go get the elephant images! "
   ]
  },
  {
   "cell_type": "code",
   "execution_count": null,
   "metadata": {},
   "outputs": [],
   "source": []
  }
 ],
 "metadata": {
  "kernelspec": {
   "display_name": "Python 3",
   "language": "python",
   "name": "python3"
  },
  "language_info": {
   "codemirror_mode": {
    "name": "ipython",
    "version": 3
   },
   "file_extension": ".py",
   "mimetype": "text/x-python",
   "name": "python",
   "nbconvert_exporter": "python",
   "pygments_lexer": "ipython3",
   "version": "3.11.1"
  },
  "orig_nbformat": 4,
  "vscode": {
   "interpreter": {
    "hash": "167171df70846b30a8d0159733df1712935e672ad1299b7ff9f875d0ba54fe24"
   }
  }
 },
 "nbformat": 4,
 "nbformat_minor": 2
}
