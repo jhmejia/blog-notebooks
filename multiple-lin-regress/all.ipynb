{
 "cells": [
  {
   "attachments": {},
   "cell_type": "markdown",
   "metadata": {},
   "source": [
    "We must discuss the idea of \"Garbage in Garbage out.\" \n",
    "\n",
    "We will make 7 models and discuss the benefits and drawbacks of each. We will then compare the results of each model to the results of the other models. \n",
    "1. All in \n",
    "2. Backwards Elimination\n",
    "3. Forward Selection\n",
    "4. Bidirectional Elimination\n",
    "5. Score Comparison\n",
    "6. All in with PCA\n",
    "7. PCA and Backwards Elimination"
   ]
  },
  {
   "cell_type": "code",
   "execution_count": 2,
   "metadata": {},
   "outputs": [
    {
     "name": "stdout",
     "output_type": "stream",
     "text": [
      "       STATION                 DATE  LATITUDE  LONGITUDE  ELEVATION  \\\n",
      "0  72254599999  1961-01-01T00:00:00      30.2 -97.683333      165.0   \n",
      "1  72254599999  1961-01-01T01:00:00      30.2 -97.683333      165.0   \n",
      "2  72254599999  1961-01-01T02:00:00      30.2 -97.683333      165.0   \n",
      "3  72254599999  1961-01-01T03:00:00      30.2 -97.683333      165.0   \n",
      "4  72254599999  1961-01-01T04:00:00      30.2 -97.683333      165.0   \n",
      "\n",
      "                         NAME REPORT_TYPE  SOURCE  HourlyAltimeterSetting  \\\n",
      "0  BERGSTROM AFB AUSTI, TX US       SAO         4                     NaN   \n",
      "1  BERGSTROM AFB AUSTI, TX US       SAO         4                     NaN   \n",
      "2  BERGSTROM AFB AUSTI, TX US       SAO         4                     NaN   \n",
      "3  BERGSTROM AFB AUSTI, TX US       SAO         4                     NaN   \n",
      "4  BERGSTROM AFB AUSTI, TX US       SAO         4                     NaN   \n",
      "\n",
      "  HourlyDewPointTemperature  ... HourlyPressureChange  HourlyPressureTendency  \\\n",
      "0                        37  ...                  NaN                     NaN   \n",
      "1                        39  ...                  NaN                     NaN   \n",
      "2                        39  ...                  NaN                     NaN   \n",
      "3                        39  ...                  NaN                     NaN   \n",
      "4                        38  ...                  NaN                     NaN   \n",
      "\n",
      "  HourlyRelativeHumidity   HourlySkyConditions  HourlySeaLevelPressure  \\\n",
      "0                     80  FEW:02 23 SCT:03 722                   30.13   \n",
      "1                     93                   NaN                     NaN   \n",
      "2                    100                   NaN                     NaN   \n",
      "3                    100            OVC:08 722                   30.10   \n",
      "4                     96                   NaN                     NaN   \n",
      "\n",
      "   HourlyStationPressure HourlyVisibility  HourlyWetBulbTemperature  \\\n",
      "0                  29.54            14.91                      40.0   \n",
      "1                    NaN            14.91                       NaN   \n",
      "2                    NaN            14.91                       NaN   \n",
      "3                  29.51            14.91                      39.0   \n",
      "4                    NaN            14.91                       NaN   \n",
      "\n",
      "   HourlyWindDirection  HourlyWindGustSpeed  \n",
      "0                  360                  NaN  \n",
      "1                  360                  NaN  \n",
      "2                    0                  NaN  \n",
      "3                  360                  NaN  \n",
      "4                    0                  NaN  \n",
      "\n",
      "[5 rows x 23 columns]\n"
     ]
    },
    {
     "name": "stderr",
     "output_type": "stream",
     "text": [
      "C:\\Users\\jhm\\AppData\\Local\\Temp\\ipykernel_4232\\1100278106.py:23: DtypeWarning: Columns (9,10) have mixed types. Specify dtype option on import or set low_memory=False.\n",
      "  df = pd.read_csv('austin_data.csv')\n"
     ]
    }
   ],
   "source": [
    "# Do data preprocessing\n",
    "\n",
    "# Data source: https://www.ncei.noaa.gov/access/search/data-search/local-climatological-data\n",
    "# BERGSTROM AFB AUSTI, TX US (72254599999.csv)\n",
    "# Direct link: https://www.ncei.noaa.gov/data/local-climatological-data/access/1961/72254599999.csv\n",
    "\n",
    "# Import libraries\n",
    "import pandas as pd\n",
    "import numpy as np\n",
    "import matplotlib.pyplot as plt\n",
    "import seaborn as sns\n",
    "import statsmodels.api as sm\n",
    "from sklearn.linear_model import LinearRegression\n",
    "from sklearn.model_selection import train_test_split\n",
    "from sklearn.metrics import mean_squared_error, r2_score\n",
    "from sklearn.preprocessing import StandardScaler\n",
    "from sklearn.preprocessing import PolynomialFeatures\n",
    "from sklearn.pipeline import Pipeline\n",
    "from sklearn.model_selection import cross_val_score\n",
    "from sklearn.model_selection import KFold\n",
    "\n",
    "# Import data\n",
    "df = pd.read_csv('austin_data.csv')\n",
    "#df = pd.read_csv('https://www.ncei.noaa.gov/data/local-climatological-data/access/1961/72254599999.csv')\n",
    "\n",
    "# Drop unnecessary columns (Everything past \"Daily Weather\")\n",
    "df = df.drop(df.columns[23:], axis=1)\n",
    "\n",
    "\n",
    "\n",
    "print(df.head())\n",
    "\n",
    "# Replace missing values with the mean of the column\n",
    "df = df.fillna(df.mean())\n",
    "\n",
    "# Convert date column to datetime\n",
    "epoch = pd.to_datetime(df['DATE'], format='%Y%m%d')\n",
    "\n"
   ]
  }
 ],
 "metadata": {
  "kernelspec": {
   "display_name": "Python 3",
   "language": "python",
   "name": "python3"
  },
  "language_info": {
   "codemirror_mode": {
    "name": "ipython",
    "version": 3
   },
   "file_extension": ".py",
   "mimetype": "text/x-python",
   "name": "python",
   "nbconvert_exporter": "python",
   "pygments_lexer": "ipython3",
   "version": "3.10.10"
  },
  "orig_nbformat": 4,
  "vscode": {
   "interpreter": {
    "hash": "47de2f6eb86d8113359ebcb5c62ed43b5f7541168a2362b99fe958a8c21da9f3"
   }
  }
 },
 "nbformat": 4,
 "nbformat_minor": 2
}
